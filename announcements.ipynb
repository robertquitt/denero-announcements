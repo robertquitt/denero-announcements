{
 "cells": [
  {
   "cell_type": "markdown",
   "metadata": {},
   "source": [
    "# Every DeNero \"Announcements\" at the Same Time\n",
    "\n",
    "4 years ago, I made a funny video https://www.facebook.com/robert.quitt/videos/1119741718095154 and https://youtu.be/RD62HmxsZ70. It was made with 17 clips of DeNero from the Fall 2016 offering of CS61A. The video was made manually with Adobe Premiere. I had a dream of one day doing a version with all the lecture videos, but I never got around to it.\n",
    "\n",
    "Now that we're in a global pandemic, this was a good time to find something to do to kill time. I was recently playing around with ffmpeg to make a collage of videos (Baka Mitai meme) and realized I could use a similar strategy to make this video.\n",
    "\n",
    "Another reason I took on this project is that I have a habit of prematurely optimizing my code. As Donald Knuth says, \"premature optimization is the root of all evil\". Using this notebook was a good exercise in first hacking together code that worked, then later optimizing it as necessary. The code you see below is the result of iteratively improving the algorithms, and hard-coding some things. I went down a few dead ends (for finding the timestamp, using the subtitles file, or using signal correlation or fft), and that's ok.\n",
    "\n",
    "The high-level overview of what I did is:\n",
    "\n",
    "1. Download all the videos (download)\n",
    "2. For each video, find the timestamp of the \"announcements\", pad the beginning with silence, and crop the facecam to 96x54 (crop_and_pad)\n",
    "3. Combine all the videos together into one (combine)\n",
    "\n",
    "I wasn't planning on publishing the code, but I figured that at least some people would be interested in it. If you have any questions about how it works, feel free to drop an issue or contact me.\n",
    "\n",
    "Consider this a parting gift to the UC Berkeley EE/CS community that has been a great source of joy and learning for the past 4 years. Thank you.\n",
    "\n",
    "--Robert Quitt  \n",
    "UC Berkeley Class of 2020  \n",
    "8/10/2020"
   ]
  },
  {
   "cell_type": "raw",
   "metadata": {},
   "source": [
    "python requirements: opencv-python numpy matplotlib pydub vosk youtube_dl\n",
    "requirements: ffmpeg\n",
    "speech model: http://alphacephei.com/vosk/models/vosk-model-small-en-us-0.3.zip\n",
    "tested on Windows 10 x86_64"
   ]
  },
  {
   "cell_type": "code",
   "execution_count": 1,
   "metadata": {},
   "outputs": [
    {
     "name": "stdout",
     "output_type": "stream",
     "text": [
      "4.3.0\n"
     ]
    }
   ],
   "source": [
    "import matplotlib.pyplot as plt\n",
    "%matplotlib inline\n",
    "import cv2\n",
    "import numpy as np\n",
    "print(cv2.__version__)\n",
    "import subprocess\n",
    "import pydub\n",
    "import pydub.playback\n",
    "import pydub.silence\n",
    "import os\n",
    "from vosk import Model, KaldiRecognizer, SetLogLevel"
   ]
  },
  {
   "cell_type": "code",
   "execution_count": 69,
   "metadata": {},
   "outputs": [],
   "source": [
    "videos = []\n",
    "with open(\"video1.txt\") as f:\n",
    "    for line in f:\n",
    "        code, title = line.strip().split(\" \", 1)\n",
    "        videos.append((code, title))"
   ]
  },
  {
   "cell_type": "code",
   "execution_count": 3,
   "metadata": {},
   "outputs": [
    {
     "data": {
      "text/plain": [
       "351"
      ]
     },
     "execution_count": 3,
     "metadata": {},
     "output_type": "execute_result"
    }
   ],
   "source": [
    "len(videos)"
   ]
  },
  {
   "cell_type": "code",
   "execution_count": 3,
   "metadata": {},
   "outputs": [
    {
     "name": "stdout",
     "output_type": "stream",
     "text": [
      "Removing cache dir C:\\Users\\Robert/.cache\\youtube-dl ..\n"
     ]
    }
   ],
   "source": [
    "!py -m youtube_dl --rm-cache-dir"
   ]
  },
  {
   "cell_type": "markdown",
   "metadata": {},
   "source": [
    "# Download"
   ]
  },
  {
   "cell_type": "code",
   "execution_count": 4,
   "metadata": {},
   "outputs": [],
   "source": [
    "def download(code, title):\n",
    "    filename = video_filename(code, title)\n",
    "    if not os.path.isfile(filename):\n",
    "        print(\"Downloading\", code, title)\n",
    "        url = subprocess.run(f'py -m youtube_dl --prefer-ffmpeg -f 22 -g -- \"{code}\"', stdout=subprocess.PIPE).stdout.decode(\"utf-8\").strip()\n",
    "        command = f'ffmpeg -i \"{url}\" -t 00:02:30.00 -c copy \"{filename}\"'\n",
    "        ret = subprocess.run(command)\n",
    "        if ret.returncode != 0:\n",
    "            print(\"Download failed\", code, title)\n",
    "            return\n",
    "    else:\n",
    "        print(\"File already exists\", code, title)\n",
    "        return None"
   ]
  },
  {
   "cell_type": "code",
   "execution_count": 105,
   "metadata": {
    "scrolled": true
   },
   "outputs": [
    {
     "name": "stdout",
     "output_type": "stream",
     "text": [
      "Downloading -Xw_IKf7PFI 61A Fall 2014 Lecture 3 Video 1\n"
     ]
    }
   ],
   "source": [
    "for v in videos[311:312]:\n",
    "    download(*v)"
   ]
  },
  {
   "cell_type": "code",
   "execution_count": 57,
   "metadata": {},
   "outputs": [],
   "source": [
    "def format_timestamp(timestamp):\n",
    "    return f\"{timestamp//1000}.{timestamp % 1000}\"\n",
    "def video_filename(code, title):\n",
    "    return f\"videos/{title}-{code}.mp4\"\n",
    "def cropped_filename(code, title):\n",
    "    return f\"c/{title}-{code}.mp4\"\n",
    "def subtitles(code, title):\n",
    "    return f\"subtitles/{title}-{code}.en.vtt\""
   ]
  },
  {
   "cell_type": "markdown",
   "metadata": {},
   "source": [
    "# Crop Facecam"
   ]
  },
  {
   "cell_type": "code",
   "execution_count": 8,
   "metadata": {},
   "outputs": [],
   "source": [
    "def get_crop(code, title, timestamp: int):\n",
    "    ts = format_timestamp(timestamp)\n",
    "    video_name = video_filename(code, title)\n",
    "    frame_name_0 = f\"temp_screenshots/{title}-{code}-0.jpg\"\n",
    "    frame_name = f\"temp_screenshots/{title}-{code}-{timestamp}.jpg\"\n",
    "    ret = subprocess.run(\n",
    "        f'ffmpeg -ss {ts} -i \"{video_name}\" -y -vframes 1 \"{frame_name}\"'\n",
    "    )\n",
    "    assert ret.returncode == 0\n",
    "    ret = subprocess.run(\n",
    "        f'ffmpeg -ss 0 -i \"{video_name}\" -y -vframes 1 \"{frame_name_0}\"'\n",
    "    )\n",
    "    assert ret.returncode == 0\n",
    "    \n",
    "    frame = cv2.cvtColor(cv2.imread(frame_name), cv2.COLOR_BGR2RGB)\n",
    "    gray = cv2.cvtColor(frame, cv2.COLOR_RGB2GRAY)\n",
    "    blacks = cv2.inRange(gray, 0, 5) \n",
    "    mask = cv2.dilate(blacks, np.ones((3,3),np.uint8), iterations=1)    \n",
    "    gray[mask>0] = 255\n",
    "    \n",
    "    \n",
    "    frame_0 = cv2.imread(frame_name_0)\n",
    "    gray_0 = cv2.cvtColor(frame_0, cv2.COLOR_RGB2GRAY)\n",
    "    blacks_0 = cv2.inRange(gray_0, 0, 5)\n",
    "    mask_0 = cv2.dilate(blacks_0, np.ones((3,3),np.uint8), iterations=1)\n",
    "    gray_0[mask_0>0] = 255\n",
    "    \n",
    "#     plt.imshow(gray, cmap=\"gray\")\n",
    "#     plt.show()\n",
    "    thresh = cv2.adaptiveThreshold(gray,255,cv2.ADAPTIVE_THRESH_GAUSSIAN_C, cv2.THRESH_BINARY_INV,401,2)\n",
    "    contours, _ = cv2.findContours(thresh,cv2.RETR_TREE,cv2.CHAIN_APPROX_SIMPLE)\n",
    "    thresh_0 = cv2.adaptiveThreshold(gray_0,255,cv2.ADAPTIVE_THRESH_GAUSSIAN_C, cv2.THRESH_BINARY_INV,401,2)\n",
    "    contours_0, _ = cv2.findContours(thresh_0,cv2.RETR_TREE,cv2.CHAIN_APPROX_SIMPLE) \n",
    "\n",
    "    cv2.drawContours(frame,contours,-1,(0, 0, 255),3)\n",
    "    cv2.drawContours(frame,contours_0,-1,(0, 128, 128),2)\n",
    "\n",
    "#     plt.imshow(thresh)\n",
    "#     plt.show()\n",
    "    def loss(c):\n",
    "        x, y, w, h = cv2.boundingRect(c)\n",
    "        return ((w * h) - (214 * 120)) ** 2 + ((w/h - 16/9) * 400) ** 2\n",
    "    big = sorted(contours + contours_0, key=loss)[:1]\n",
    "\n",
    "    cv2.drawContours(frame,big,-1,(0, 0, 255),3)\n",
    "    for c in big:\n",
    "        x, y, w, h = cv2.boundingRect(c)\n",
    "        cv2.rectangle(frame, (x, y), (x+w, y+h), (255, 0, 0), 4)\n",
    "    plt.imshow(frame)\n",
    "    plt.show()\n",
    "    return x, y, w, h"
   ]
  },
  {
   "cell_type": "code",
   "execution_count": 7,
   "metadata": {
    "collapsed": true
   },
   "outputs": [
    {
     "data": {
      "image/png": "[encoded data removed]",
      "text/plain": [
       "<Figure size 432x288 with 1 Axes>"
      ]
     },
     "metadata": {
      "needs_background": "light"
     },
     "output_type": "display_data"
    },
    {
     "name": "stdout",
     "output_type": "stream",
     "text": [
      "1066 0 214 120\n"
     ]
    },
    {
     "data": {
      "image/png": "[encoded data removed]",
      "text/plain": [
       "<Figure size 432x288 with 1 Axes>"
      ]
     },
     "metadata": {
      "needs_background": "light"
     },
     "output_type": "display_data"
    },
    {
     "name": "stdout",
     "output_type": "stream",
     "text": [
      "1066 0 214 120\n"
     ]
    },
    {
     "data": {
      "image/png": "[encoded data removed]",
      "text/plain": [
       "<Figure size 432x288 with 1 Axes>"
      ]
     },
     "metadata": {
      "needs_background": "light"
     },
     "output_type": "display_data"
    },
    {
     "name": "stdout",
     "output_type": "stream",
     "text": [
      "1066 0 214 120\n"
     ]
    }
   ],
   "source": [
    "# code, title = videos[2]\n",
    "for code, title in videos[48:51]:\n",
    "    if os.path.isfile(video_filename(code, title)):\n",
    "        x, y, w, h = get_crop(code, title, 0)\n",
    "        print(x, y, w, h)\n",
    "        "
   ]
  },
  {
   "cell_type": "code",
   "execution_count": 10,
   "metadata": {},
   "outputs": [
    {
     "data": {
      "image/png": "[encoded data removed]",
      "text/plain": [
       "<Figure size 432x288 with 1 Axes>"
      ]
     },
     "metadata": {
      "needs_background": "light"
     },
     "output_type": "display_data"
    },
    {
     "data": {
      "text/plain": [
       "(125, 248, 229, 102)"
      ]
     },
     "execution_count": 10,
     "metadata": {},
     "output_type": "execute_result"
    }
   ],
   "source": [
    "get_crop(*videos[250], 0)"
   ]
  },
  {
   "cell_type": "code",
   "execution_count": 8,
   "metadata": {},
   "outputs": [],
   "source": [
    "def identify_manual(chunks):\n",
    "    for i, chunk in enumerate(chunks):\n",
    "        loop = True\n",
    "        while loop:\n",
    "            pydub.playback.play(chunk)\n",
    "            c = input(\"y/n/r/q? \")\n",
    "            if c == \"y\":\n",
    "                return i\n",
    "            elif c == \"n\":\n",
    "                loop = False\n",
    "                continue\n",
    "            elif c == \"r\":\n",
    "                continue"
   ]
  },
  {
   "cell_type": "markdown",
   "metadata": {},
   "source": [
    "# Find Timestamp"
   ]
  },
  {
   "cell_type": "code",
   "execution_count": 34,
   "metadata": {},
   "outputs": [],
   "source": [
    "def find_timestamp(code, title, debug=False):\n",
    "    i = 0\n",
    "    wf = pydub.AudioSegment.from_file(video_filename(code, title), \"mp4\")\n",
    "    mono = wf.channels == 1\n",
    "    if not mono:\n",
    "        c = wf.split_to_mono()\n",
    "        wf = c[0].overlay(c[1])\n",
    "    if wf.frame_width != 2:\n",
    "        print(wf.frame_width)\n",
    "    assert wf.frame_width == 2\n",
    "    assert wf.channels == 1\n",
    "    model = Model(\"model\")\n",
    "    samples = wf.get_array_of_samples()\n",
    "    rec = KaldiRecognizer(model, wf.frame_rate)\n",
    "    words = []\n",
    "    while 1:\n",
    "        data = bytes(samples[4000*i:4000*(i+1)])\n",
    "        if len(data) == 0:\n",
    "            break\n",
    "        if rec.AcceptWaveform(data):\n",
    "            res = eval(rec.Result())\n",
    "            for word in res[\"result\"]:\n",
    "                words.append(word)\n",
    "                if word[\"word\"] in (\"announcements\", \"announcement\", \"announce\"):\n",
    "                    return word\n",
    "        i+=1\n",
    "    # handle 6KVMBt_ZOkk 61A Fall 2018 Lecture 26 Video 1\n",
    "    # handle Tu3PjH9CIys 61A Fall 2013 Lecture 31 Video 1\n",
    "    # handle FigFtisptsM 61A Fall 2016 Lecture 27 Video 1\n",
    "    # 22V_NuOZi88 61A Fall 2015 Lecture 30 Video 1\n",
    "    for i in range(len(words)-1):\n",
    "        word = words[i+1]\n",
    "        word_prev = words[i]\n",
    "        if ((word_prev[\"word\"] == \"and\" and word[\"word\"] == \"owns\") \n",
    "        or (word_prev[\"word\"]==\"it's\" and word[\"word\"]==\"months\")\n",
    "        or (word_prev[\"word\"]==\"as\" and word[\"word\"]==\"homework\")\n",
    "        or (word_prev[\"word\"]==\"and\" and word[\"word\"]==\"i\")\n",
    "        or (word_prev[\"word\"]==\"and\" and word[\"word\"]==\"and\")):\n",
    "            return word_prev\n",
    "    if debug:\n",
    "        return words\n",
    "    return None"
   ]
  },
  {
   "cell_type": "code",
   "execution_count": 40,
   "metadata": {},
   "outputs": [
    {
     "data": {
      "text/plain": [
       "[{'conf': 0.610522, 'end': 0.75, 'start': 0.36, 'word': 'six'},\n",
       " {'conf': 0.610522, 'end': 0.895285, 'start': 0.75, 'word': 'to'},\n",
       " {'conf': 1.0, 'end': 1.11, 'start': 0.895285, 'word': 'one'},\n",
       " {'conf': 1.0, 'end': 1.32, 'start': 1.11, 'word': 'a'},\n",
       " {'conf': 1.0, 'end': 1.71, 'start': 1.32, 'word': 'lecture'},\n",
       " {'conf': 1.0, 'end': 1.95, 'start': 1.71, 'word': 'number'},\n",
       " {'conf': 1.0, 'end': 2.52, 'start': 1.95, 'word': 'thirty'},\n",
       " {'conf': 0.940792, 'end': 4.05, 'start': 3.6, 'word': \"sprint's\"},\n",
       " {'conf': 0.959168, 'end': 5.55, 'start': 5.04, 'word': 'or'},\n",
       " {'conf': 0.998582, 'end': 6.06, 'start': 5.61, 'word': 'eight'},\n",
       " {'conf': 1.0, 'end': 6.51, 'start': 6.3, 'word': 'is'},\n",
       " {'conf': 0.999999, 'end': 6.75, 'start': 6.51, 'word': 'due'},\n",
       " {'conf': 1.0, 'end': 6.93, 'start': 6.75, 'word': 'on'},\n",
       " {'conf': 1.0, 'end': 7.56, 'start': 6.93, 'word': 'wednesday'},\n",
       " {'conf': 1.0, 'end': 9.57, 'start': 8.94, 'word': 'project'},\n",
       " {'conf': 1.0, 'end': 10.26, 'start': 9.57, 'word': 'for'},\n",
       " {'conf': 0.999999, 'end': 10.92, 'start': 10.62, 'word': 'is'},\n",
       " {'conf': 1.0, 'end': 11.34, 'start': 10.92, 'word': 'now'},\n",
       " {'conf': 0.995227, 'end': 11.64, 'start': 11.34, 'word': 'do'},\n",
       " {'conf': 1.0, 'end': 11.88, 'start': 11.64, 'word': 'on'},\n",
       " {'conf': 1.0, 'end': 12.51, 'start': 11.88, 'word': 'friday'},\n",
       " {'conf': 1.0, 'end': 12.63, 'start': 12.51, 'word': 'the'},\n",
       " {'conf': 1.0, 'end': 12.99, 'start': 12.63, 'word': 'twenty'},\n",
       " {'conf': 1.0, 'end': 13.53, 'start': 12.99, 'word': 'first'},\n",
       " {'conf': 1.0, 'end': 14.25, 'start': 13.56, 'word': 'extended'},\n",
       " {'conf': 1.0, 'end': 14.58, 'start': 14.25, 'word': 'one'},\n",
       " {'conf': 1.0, 'end': 14.88, 'start': 14.58, 'word': 'day'},\n",
       " {'conf': 1.0, 'end': 15.12, 'start': 14.88, 'word': 'from'},\n",
       " {'conf': 0.999997, 'end': 15.3, 'start': 15.12, 'word': \"it's\"},\n",
       " {'conf': 1.0, 'end': 15.81, 'start': 15.3, 'word': 'original'},\n",
       " {'conf': 1.0, 'end': 16.41, 'start': 15.81, 'word': 'deadline'},\n",
       " {'conf': 1.0, 'end': 17.79, 'start': 17.55, 'word': 'in'},\n",
       " {'conf': 1.0, 'end': 18.3, 'start': 17.79, 'word': 'fact'},\n",
       " {'conf': 1.0, 'end': 19.29, 'start': 18.81, 'word': 'all'},\n",
       " {'conf': 1.0, 'end': 19.44, 'start': 19.29, 'word': 'of'},\n",
       " {'conf': 1.0, 'end': 19.56, 'start': 19.44, 'word': 'that'},\n",
       " {'conf': 1.0, 'end': 19.98, 'start': 19.56, 'word': 'different'},\n",
       " {'conf': 1.0, 'end': 20.43, 'start': 20.04, 'word': 'early'},\n",
       " {'conf': 1.0, 'end': 21.12, 'start': 20.43, 'word': 'submission'},\n",
       " {'conf': 1.0, 'end': 21.6, 'start': 21.12, 'word': 'points'},\n",
       " {'conf': 1.0, 'end': 21.99, 'start': 21.75, 'word': 'have'},\n",
       " {'conf': 1.0, 'end': 22.14, 'start': 21.99, 'word': 'been'},\n",
       " {'conf': 1.0, 'end': 22.8, 'start': 22.14, 'word': 'extended'},\n",
       " {'conf': 1.0, 'end': 23.01, 'start': 22.8, 'word': 'by'},\n",
       " {'conf': 1.0, 'end': 23.34, 'start': 23.01, 'word': 'one'},\n",
       " {'conf': 1.0, 'end': 23.73, 'start': 23.34, 'word': 'day'},\n",
       " {'conf': 1.0, 'end': 23.94, 'start': 23.73, 'word': 'as'},\n",
       " {'conf': 1.0, 'end': 24.3, 'start': 23.94, 'word': 'well'}]"
      ]
     },
     "execution_count": 40,
     "metadata": {},
     "output_type": "execute_result"
    }
   ],
   "source": [
    "find_timestamp('I8BlpSQAer8', '61A Fall 2014 Lecture 30 Video 1', debug=True)"
   ]
  },
  {
   "cell_type": "code",
   "execution_count": 175,
   "metadata": {},
   "outputs": [],
   "source": [
    "def crop_and_pad(code, title):\n",
    "    video_name = video_filename(code, title)\n",
    "    outfile = cropped_filename(code, title)\n",
    "    if not os.path.isfile(video_name):\n",
    "        print(\"No download found for\", code, title)\n",
    "        return\n",
    "    if os.path.isfile(outfile):\n",
    "        print(\"Skipping\", code, title)\n",
    "        return\n",
    "    else:\n",
    "        print(\"Finding timestamp for\", code, title)\n",
    "    word = find_timestamp(code, title)\n",
    "    if not word:\n",
    "        print(\"NO ANNOUNCEMENTS FOUND FOR\", code, title)\n",
    "        return\n",
    "    timestamp = int(word[\"start\"] * 1000)\n",
    "    print(\"Timestamp\", timestamp)\n",
    "    x, y, w, h = get_crop(code, title, timestamp)\n",
    "    print(x, y, w, h)\n",
    "    padding = 10000 - timestamp\n",
    "    if padding < 0:\n",
    "        padding = 0\n",
    "        seek = timestamp - 10000\n",
    "    else:\n",
    "        seek = 0\n",
    "    seektime = format_timestamp(seek)\n",
    "    assert padding >= 0\n",
    "    ts = format_timestamp(timestamp)\n",
    "    pad = format_timestamp(padding)\n",
    "    filter_complex = \";\".join([\n",
    "        f\"[1:v]crop={w}:{h}:{x}:{y},scale=96:54,setsar=1[vid]\",\n",
    "        f\"[1:a]adelay={padding}|{padding}[a]\",\n",
    "        \"[0:v][vid]concat=n=2:v=1:a=0[v]\",\n",
    "    ])\n",
    "    nsamples = int(44100 * padding / 1000)\n",
    "    command = f'ffmpeg -y \\\n",
    "    -f lavfi -i \"color=color=black,scale=96:54,setsar=1,trim=end={pad}\" \\\n",
    "    -ss \"{seektime}\" -i \"{video_name}\" \\\n",
    "    -filter_complex \"{filter_complex}\" \\\n",
    "    -t 20 -map \"[v]\" -map \"[a]\" \"{outfile}\"'\n",
    "    process = subprocess.run(command)\n",
    "    assert process.returncode == 0"
   ]
  },
  {
   "cell_type": "code",
   "execution_count": 39,
   "metadata": {},
   "outputs": [
    {
     "data": {
      "text/plain": [
       "[('I8BlpSQAer8', '61A Fall 2014 Lecture 30 Video 1')]"
      ]
     },
     "execution_count": 39,
     "metadata": {},
     "output_type": "execute_result"
    }
   ],
   "source": [
    "[v for v in videos if v[0] == \"I8BlpSQAer8\"]"
   ]
  },
  {
   "cell_type": "code",
   "execution_count": 96,
   "metadata": {},
   "outputs": [
    {
     "data": {
      "text/plain": [
       "('Tu3PjH9CIys', '61A Fall 2013 Lecture 31 Video 1')"
      ]
     },
     "execution_count": 96,
     "metadata": {},
     "output_type": "execute_result"
    }
   ],
   "source": [
    "videos[-32]"
   ]
  },
  {
   "cell_type": "code",
   "execution_count": 63,
   "metadata": {},
   "outputs": [],
   "source": [
    "def crop_and_pad(code, title):\n",
    "    video_name = video_filename(code, title)\n",
    "    outfile = cropped_filename(code, title)\n",
    "    if not os.path.isfile(video_name):\n",
    "        print(\"No download found for\", code, title)\n",
    "        return\n",
    "    if os.path.isfile(outfile):\n",
    "#         print(\"Skipping\", code, title)\n",
    "        return\n",
    "    else:\n",
    "        print(\"Finding timestamp for\", code, title)\n",
    "    if code in manual_timestamps:\n",
    "        print(\"Using manual timestamp\")\n",
    "        timestamp = int(manual_timestamps[code] * 1000)\n",
    "    else:\n",
    "        word = find_timestamp(code, title)\n",
    "        if not word:\n",
    "            print(\"NO ANNOUNCEMENTS FOUND FOR\", code, title)\n",
    "            return\n",
    "        timestamp = int(word[\"start\"] * 1000)\n",
    "    print(\"Timestamp\", timestamp)\n",
    "    if code == \"ysvhdD2gaCQ\":\n",
    "        pass\n",
    "    if code in manual_crops:\n",
    "        print(\"Using manual crop\")\n",
    "        x, y, w, h = manual_crops[code]\n",
    "    else:\n",
    "        x, y, w, h = get_crop(code, title, timestamp)\n",
    "    if \"Fall 2015\" in title and y > 10:\n",
    "        x, y, w, h = 1066, 0, 214, 120\n",
    "        print(\"Applying Fall 2015 overrride!\")\n",
    "    print(x, y, w, h)\n",
    "    padding = 10000 - timestamp\n",
    "    if padding < 0:\n",
    "        padding = 0\n",
    "        seek = timestamp - 10000\n",
    "    else:\n",
    "        seek = 0\n",
    "    seektime = format_timestamp(seek)\n",
    "    assert padding >= 0\n",
    "    ts = format_timestamp(timestamp)\n",
    "    pad = format_timestamp(padding)\n",
    "    filter_complex = \";\".join([\n",
    "        f\"[1:v]crop={w}:{h}:{x}:{y},scale=96:54,setsar=1[vid]\",\n",
    "        f\"[1:a]adelay={padding}|{padding}[a]\",\n",
    "        \"[0:v][vid]concat=n=2:v=1:a=0[v]\",\n",
    "    ])\n",
    "    nsamples = int(44100 * padding / 1000)\n",
    "    command = f'ffmpeg -y \\\n",
    "    -f lavfi -i \"color=color=black,scale=96:54,setsar=1,trim=end={pad}\" \\\n",
    "    -ss \"{seektime}\" -i \"{video_name}\" \\\n",
    "    -filter_complex \"{filter_complex}\" \\\n",
    "    -t 20 -map \"[v]\" -map \"[a]\" \"{outfile}\"'\n",
    "    process = subprocess.run(command)\n",
    "    assert process.returncode == 0"
   ]
  },
  {
   "cell_type": "code",
   "execution_count": 67,
   "metadata": {
    "scrolled": true
   },
   "outputs": [],
   "source": [
    "for code, title in videos[:]:\n",
    "    if code in confirmed_skips:\n",
    "        continue\n",
    "    crop_and_pad(code, title)"
   ]
  },
  {
   "cell_type": "code",
   "execution_count": 61,
   "metadata": {},
   "outputs": [],
   "source": [
    "confirmed_skips = [\n",
    "    \"0_LryzvBxFw\", # Lecture 1, no announcements\n",
    "    \"jX2XIHEZnEA\", # Replaces announcements with updates as an april fool's joke\n",
    "    \"pIbldGLvZi8\", # Lecture 1, no announcements\n",
    "    \"v5CP0zpYUcw\", # Lecture 1, no announcements\n",
    "    \"tdgcO2Lrf0U\", # Lecture 1, welcome\n",
    "    \"74zFPB1Iddw\", # Lecture 19, no explicit \"announcements\"\n",
    "    \"RL8l78CO4rQ\", # Lecture 1 \n",
    "    \"2ajhv_e_u5Q\", # Aggregation \n",
    "    \"yC4WPw_6ehY\", # Linked lists \n",
    "    \"Q-CewobDFZM\", # Objects\n",
    "    \"Rw6VyLPr128\", # Lecture 1 \n",
    "    \"OsMI7P1pE98\", # Lecture 1 \n",
    "    \"ztcbniTlPo0\", # Lecture 1 \n",
    "]\n",
    "todo = [\n",
    "    \"22V_NuOZi88\", # \n",
    "    \"QE2JEtt8OlU\", #  \n",
    "    \"j0ojOSce4zA\", # \n",
    "    \"I8BlpSQAer8\", # TODO \n",
    "    \"b6RfDZmnU9Q\", # \n",
    "    \"nYMibzT9kFU\", #  \n",
    "]\n",
    "manual_timestamps = {\n",
    "    \"I8BlpSQAer8\": 3.0\n",
    "} \n",
    "manual_crops = {\n",
    "    \"u3WMWdhfx3U\": (938, 0, 214, 120),\n",
    "    \"j0ojOSce4zA\": (1016, 0, 264, 149),\n",
    "}"
   ]
  },
  {
   "cell_type": "raw",
   "metadata": {},
   "source": [
    "Video #13 was stereo, so here I figured out how to merge it back to mono audio"
   ]
  },
  {
   "cell_type": "code",
   "execution_count": 24,
   "metadata": {},
   "outputs": [
    {
     "data": {
      "text/plain": [
       "<bound method AudioSegment.split_to_mono of <pydub.audio_segment.AudioSegment object at 0x00000209B68F9D60>>"
      ]
     },
     "execution_count": 24,
     "metadata": {},
     "output_type": "execute_result"
    }
   ],
   "source": [
    "a = pydub.AudioSegment.from_file(video_filename(*videos[13]), \"mp4\")\n",
    "a.split_to_mono"
   ]
  },
  {
   "cell_type": "code",
   "execution_count": 29,
   "metadata": {},
   "outputs": [],
   "source": [
    "c = a.split_to_mono()\n",
    "d = c[0].overlay(c[1])"
   ]
  },
  {
   "cell_type": "code",
   "execution_count": 55,
   "metadata": {},
   "outputs": [],
   "source": [
    "def combine(videos, outfile=\"default.mp4\"):\n",
    "    ninputs = len(videos)\n",
    "    nrows = ninputs // 20\n",
    "    assert nrows >= 1\n",
    "    assert 20 <= ninputs <= 400\n",
    "    overlays_old = (\n",
    "        [\"[0:v]pad=1920:1080:0:0[int1]\"]\n",
    "        + [f\"[int{i}][{i}:v]overlay={96*(i%20)}:{54*(i//20)}[int{i+1}]\" for i in range(1, ninputs)])\n",
    "    lastrow = ninputs - (nrows * 20)\n",
    "    overlays = (\n",
    "        [\"\".join([f\"[{(20*j)+i}:v]\" for i in range(20)])+f\"hstack=inputs=20[row{j}]\" for j in range(nrows)]\n",
    "        + ([\"\".join([f\"[row{j}]\" for j in range(nrows)]) + f\"vstack=inputs={nrows}[grid]\"] if nrows > 1 else [])\n",
    "        + ([\"\".join([f\"[{20*nrows+i}:v]\" for i in range(lastrow)]) + f\"hstack=inputs={lastrow}[bottom]\"] if lastrow else [])\n",
    "        + [f\"[{'grid' if nrows > 1 else 'row0'}]pad=1920:1080:0:0[{'padded' if lastrow else 'final'}]\"]\n",
    "        + ([f\"[padded][bottom]overlay=0:{54*nrows}[final]\"] if lastrow else [])\n",
    "    )\n",
    "    amix = [\"\".join([f\"[{i}:a]\" for i in range(ninputs)])+f\"amix=inputs={ninputs}[a]\"]\n",
    "    \n",
    "    inputs = \" \".join([f'-i \"{cropped_filename(code, title)}\"' for code, title in videos])\n",
    "    filter_complex = \";\".join(overlays + amix)\n",
    "    command = f'ffmpeg -y {inputs} -filter_complex \"{filter_complex}\" -map \"[final]\" -map \"[a]\" {outfile}'\n",
    "    print(\"Command length\", len(command))\n",
    "    proc = subprocess.run(command)\n",
    "    assert proc.returncode == 0"
   ]
  },
  {
   "cell_type": "code",
   "execution_count": 65,
   "metadata": {},
   "outputs": [],
   "source": [
    "use = [v for v in videos if os.path.isfile(cropped_filename(*v))]\n",
    "use.reverse()"
   ]
  },
  {
   "cell_type": "code",
   "execution_count": 66,
   "metadata": {},
   "outputs": [
    {
     "name": "stdout",
     "output_type": "stream",
     "text": [
      "Command length 24236\n"
     ]
    }
   ],
   "source": [
    "combine(use, \"test9.mp4\")"
   ]
  },
  {
   "cell_type": "code",
   "execution_count": 79,
   "metadata": {
    "scrolled": true
   },
   "outputs": [
    {
     "name": "stderr",
     "output_type": "stream",
     "text": [
      "ffmpeg version N-93001-g87c165c237 Copyright (c) 2000-2019 the FFmpeg developers\n",
      "  built with gcc 8.2.1 (GCC) 20181201\n",
      "  configuration: --enable-gpl --enable-version3 --enable-sdl2 --enable-fontconfig --enable-gnutls --enable-iconv --enable-libass --enable-libbluray --enable-libfreetype --enable-libmp3lame --enable-libopencore-amrnb --enable-libopencore-amrwb --enable-libopenjpeg --enable-libopus --enable-libshine --enable-libsnappy --enable-libsoxr --enable-libtheora --enable-libtwolame --enable-libvpx --enable-libwavpack --enable-libwebp --enable-libx264 --enable-libx265 --enable-libxml2 --enable-libzimg --enable-lzma --enable-zlib --enable-gmp --enable-libvidstab --enable-libvorbis --enable-libvo-amrwbenc --enable-libmysofa --enable-libspeex --enable-libxvid --enable-libaom --enable-libmfx --enable-amf --enable-ffnvcodec --enable-cuvid --enable-d3d11va --enable-nvenc --enable-nvdec --enable-dxva2 --enable-avisynth --enable-libopenmpt\n",
      "  libavutil      56. 26.100 / 56. 26.100\n",
      "  libavcodec     58. 44.100 / 58. 44.100\n",
      "  libavformat    58. 26.100 / 58. 26.100\n",
      "  libavdevice    58.  6.101 / 58.  6.101\n",
      "  libavfilter     7. 48.100 /  7. 48.100\n",
      "  libswscale      5.  4.100 /  5.  4.100\n",
      "  libswresample   3.  4.100 /  3.  4.100\n",
      "  libpostproc    55.  4.100 / 55.  4.100\n",
      "Input #0, mov,mp4,m4a,3gp,3g2,mj2, from 'test9.mp4':\n",
      "  Metadata:\n",
      "    major_brand     : isom\n",
      "    minor_version   : 512\n",
      "    compatible_brands: isomiso2avc1mp41\n",
      "    encoder         : Lavf58.26.100\n",
      "  Duration: 00:00:20.04, start: 0.000000, bitrate: 2414 kb/s\n",
      "    Stream #0:0(und): Video: h264 (High) (avc1 / 0x31637661), yuv420p, 1920x1080 [SAR 1:1 DAR 16:9], 2342 kb/s, 25 fps, 25 tbr, 12800 tbn, 50 tbc (default)\n",
      "    Metadata:\n",
      "      handler_name    : VideoHandler\n",
      "    Stream #0:1(und): Audio: aac (LC) (mp4a / 0x6134706D), 44100 Hz, mono, fltp, 70 kb/s (default)\n",
      "    Metadata:\n",
      "      handler_name    : SoundHandler\n",
      "Stream mapping:\n",
      "  Stream #0:0 -> #0:0 (h264 (native) -> h264 (libx264))\n",
      "  Stream #0:1 -> #0:1 (copy)\n",
      "Press [q] to stop, [?] for help\n",
      "Fontconfig error: Cannot load default config file\n",
      "[Parsed_drawtext_0 @ 00000152848fc340] Using \"C:/Windows/fonts/consola.ttf\"\n",
      "[libx264 @ 0000015284899b80] using SAR=1/1\n",
      "[libx264 @ 0000015284899b80] using cpu capabilities: MMX2 SSE2Fast SSSE3 SSE4.2\n",
      "[libx264 @ 0000015284899b80] profile High, level 4.0, 4:2:0, 8-bit\n",
      "[libx264 @ 0000015284899b80] 264 - core 157 r2935 545de2f - H.264/MPEG-4 AVC codec - Copyleft 2003-2018 - http://www.videolan.org/x264.html - options: cabac=1 ref=3 deblock=1:0:0 analyse=0x3:0x113 me=hex subme=7 psy=1 psy_rd=1.00:0.00 mixed_ref=1 me_range=16 chroma_me=1 trellis=1 8x8dct=1 cqm=0 deadzone=21,11 fast_pskip=1 chroma_qp_offset=-2 threads=34 lookahead_threads=5 sliced_threads=0 nr=0 decimate=1 interlaced=0 bluray_compat=0 constrained_intra=0 bframes=3 b_pyramid=2 b_adapt=1 b_bias=0 direct=1 weightb=1 open_gop=0 weightp=2 keyint=250 keyint_min=25 scenecut=40 intra_refresh=0 rc_lookahead=40 rc=crf mbtree=1 crf=23.0 qcomp=0.60 qpmin=0 qpmax=69 qpstep=4 ip_ratio=1.40 aq=1:1.00\n",
      "Output #0, mp4, to 'hello.mp4':\n",
      "  Metadata:\n",
      "    major_brand     : isom\n",
      "    minor_version   : 512\n",
      "    compatible_brands: isomiso2avc1mp41\n",
      "    encoder         : Lavf58.26.100\n",
      "    Stream #0:0(und): Video: h264 (libx264) (avc1 / 0x31637661), yuv420p, 1920x1080 [SAR 1:1 DAR 16:9], q=-1--1, 25 fps, 12800 tbn, 25 tbc (default)\n",
      "    Metadata:\n",
      "      handler_name    : VideoHandler\n",
      "      encoder         : Lavc58.44.100 libx264\n",
      "    Side data:\n",
      "      cpb: bitrate max/min/avg: 0/0/0 buffer size: 0 vbv_delay: -1\n",
      "    Stream #0:1(und): Audio: aac (LC) (mp4a / 0x6134706D), 44100 Hz, mono, fltp, 70 kb/s (default)\n",
      "    Metadata:\n",
      "      handler_name    : SoundHandler\n",
      "frame=   67 fps=0.0 q=0.0 size=       0kB time=00:00:03.25 bitrate=   0.1kbits/s speed=6.45x    \n",
      "frame=  147 fps=146 q=28.0 size=       0kB time=00:00:06.45 bitrate=   0.1kbits/s speed=6.43x    \n",
      "frame=  217 fps=143 q=28.0 size=       0kB time=00:00:09.24 bitrate=   0.0kbits/s speed=6.11x    \n",
      "frame=  272 fps=135 q=28.0 size=     768kB time=00:00:11.44 bitrate= 549.6kbits/s speed=5.67x    \n",
      "frame=  331 fps=131 q=28.0 size=    1792kB time=00:00:13.81 bitrate=1062.6kbits/s speed=5.49x    \n",
      "frame=  389 fps=129 q=28.0 size=    2560kB time=00:00:16.13 bitrate=1299.5kbits/s speed=5.34x    \n",
      "frame=  444 fps=126 q=28.0 size=    3328kB time=00:00:18.32 bitrate=1488.1kbits/s speed=5.19x    \n",
      "frame=  500 fps=124 q=28.0 size=    4352kB time=00:00:19.99 bitrate=1783.3kbits/s speed=4.95x    \n",
      "frame=  500 fps=107 q=-1.0 Lsize=    5349kB time=00:00:19.99 bitrate=2191.8kbits/s speed=4.27x    \n",
      "video:5162kB audio:171kB subtitle:0kB other streams:0kB global headers:0kB muxing overhead: 0.284281%\n",
      "[libx264 @ 0000015284899b80] frame I:2     Avg QP:13.29  size:203791\n",
      "[libx264 @ 0000015284899b80] frame P:372   Avg QP:23.45  size: 13043\n",
      "[libx264 @ 0000015284899b80] frame B:126   Avg QP:30.20  size:   207\n",
      "[libx264 @ 0000015284899b80] consecutive B-frames: 65.8%  1.2%  1.8% 31.2%\n",
      "[libx264 @ 0000015284899b80] mb I  I16..4: 52.3% 19.1% 28.6%\n",
      "[libx264 @ 0000015284899b80] mb P  I16..4:  0.0%  0.1%  0.2%  P16..4: 12.8%  3.6%  4.7%  0.0%  0.0%    skip:78.5%\n",
      "[libx264 @ 0000015284899b80] mb B  I16..4:  0.0%  0.0%  0.0%  B16..8:  1.7%  0.1%  0.0%  direct: 0.0%  skip:98.2%  L0:42.6% L1:56.1% BI: 1.3%\n",
      "[libx264 @ 0000015284899b80] 8x8 transform intra:24.0% inter:44.8%\n",
      "[libx264 @ 0000015284899b80] coded y,uvDC,uvAC intra: 54.3% 57.6% 45.8% inter: 5.9% 4.3% 0.3%\n",
      "[libx264 @ 0000015284899b80] i16 v,h,dc,p: 91%  3%  1%  5%\n",
      "[libx264 @ 0000015284899b80] i8 v,h,dc,ddl,ddr,vr,hd,vl,hu: 28% 15% 12%  6%  6%  8%  6%  8% 11%\n",
      "[libx264 @ 0000015284899b80] i4 v,h,dc,ddl,ddr,vr,hd,vl,hu: 22% 25%  9%  6%  7%  8%  7%  7%  8%\n",
      "[libx264 @ 0000015284899b80] i8c dc,h,v,p: 61% 14% 19%  6%\n",
      "[libx264 @ 0000015284899b80] Weighted P-Frames: Y:0.0% UV:0.0%\n",
      "[libx264 @ 0000015284899b80] ref P L0: 84.9%  9.7%  4.1%  1.2%\n",
      "[libx264 @ 0000015284899b80] ref B L0: 90.1%  9.4%  0.6%\n",
      "[libx264 @ 0000015284899b80] ref B L1: 98.3%  1.7%\n",
      "[libx264 @ 0000015284899b80] kb/s:2114.28\n"
     ]
    }
   ],
   "source": [
    "!ffmpeg -y -i \"test9.mp4\" -vf \"drawtext=text='__author__ = \\\"Robert Quitt\\\"':font=consolas:fontcolor=white:fontsize=24:x=0:y=1000\" -c:a copy hello.mp4"
   ]
  },
  {
   "cell_type": "markdown",
   "metadata": {},
   "source": [
    "# Keyword Spotting"
   ]
  },
  {
   "cell_type": "code",
   "execution_count": 39,
   "metadata": {},
   "outputs": [],
   "source": [
    "def get_audio(code, title):\n",
    "    return pydub.AudioSegment.from_file(video_filename(code, title))\n",
    "def plot_audio(audio):\n",
    "    time = np.arange(0, audio.duration_seconds, 1/audio.frame_rate)\n",
    "    samples = audio.get_array_of_samples()\n",
    "    plt.plot(time, samples, linewidth=0.1, alpha=0.7, color='#ff7f00')"
   ]
  },
  {
   "cell_type": "code",
   "execution_count": 36,
   "metadata": {},
   "outputs": [],
   "source": [
    "a = get_audio(*videos[14])"
   ]
  },
  {
   "cell_type": "code",
   "execution_count": 40,
   "metadata": {},
   "outputs": [
    {
     "data": {
      "image/png": "[encoded data removed]",
      "text/plain": [
       "<Figure size 432x288 with 1 Axes>"
      ]
     },
     "metadata": {
      "needs_background": "light"
     },
     "output_type": "display_data"
    }
   ],
   "source": [
    "plot_audio(a[3000:4500])"
   ]
  },
  {
   "cell_type": "code",
   "execution_count": 65,
   "metadata": {},
   "outputs": [],
   "source": [
    "import scipy.fft\n",
    "import scipy.signal"
   ]
  },
  {
   "cell_type": "code",
   "execution_count": 74,
   "metadata": {},
   "outputs": [
    {
     "ename": "AttributeError",
     "evalue": "module 'matplotlib.pyplot' has no attribute 'line'",
     "output_type": "error",
     "traceback": [
      "\u001b[1;31m---------------------------------------------------------------------------\u001b[0m",
      "\u001b[1;31mAttributeError\u001b[0m                            Traceback (most recent call last)",
      "\u001b[1;32m<ipython-input-74-51f208fc6693>\u001b[0m in \u001b[0;36m<module>\u001b[1;34m\u001b[0m\n\u001b[1;32m----> 1\u001b[1;33m \u001b[0mplt\u001b[0m\u001b[1;33m.\u001b[0m\u001b[0mline\u001b[0m\u001b[1;33m(\u001b[0m\u001b[0mnp\u001b[0m\u001b[1;33m.\u001b[0m\u001b[0mabs\u001b[0m\u001b[1;33m(\u001b[0m\u001b[0mfft1\u001b[0m\u001b[1;33m)\u001b[0m\u001b[1;33m)\u001b[0m\u001b[1;33m\u001b[0m\u001b[1;33m\u001b[0m\u001b[0m\n\u001b[0m",
      "\u001b[1;31mAttributeError\u001b[0m: module 'matplotlib.pyplot' has no attribute 'line'"
     ]
    }
   ],
   "source": [
    "plt.line(np.abs(fft1))"
   ]
  },
  {
   "cell_type": "code",
   "execution_count": 79,
   "metadata": {},
   "outputs": [],
   "source": [
    "N = len(xt)"
   ]
  },
  {
   "cell_type": "code",
   "execution_count": 130,
   "metadata": {},
   "outputs": [],
   "source": [
    "y = np.array(a[:].get_array_of_samples())\n",
    "x_signal = np.array(a[3000:4500].get_array_of_samples())\n",
    "x = np.zeros(y.shape)\n",
    "x[:x_signal.shape[0]] = x_signal\n",
    "out = scipy.signal.correlate(x, y, mode=\"full\")"
   ]
  },
  {
   "cell_type": "code",
   "execution_count": 117,
   "metadata": {},
   "outputs": [
    {
     "data": {
      "text/plain": [
       "(1323000,)"
      ]
     },
     "execution_count": 117,
     "metadata": {},
     "output_type": "execute_result"
    }
   ],
   "source": [
    "np.array(y).shape"
   ]
  },
  {
   "cell_type": "code",
   "execution_count": 83,
   "metadata": {},
   "outputs": [],
   "source": [
    "xt = scipy.fft.rfft(x)"
   ]
  },
  {
   "cell_type": "code",
   "execution_count": 88,
   "metadata": {},
   "outputs": [
    {
     "data": {
      "text/plain": [
       "[<matplotlib.lines.Line2D at 0x29d736bf400>]"
      ]
     },
     "execution_count": 88,
     "metadata": {},
     "output_type": "execute_result"
    },
    {
     "data": {
      "image/png": "[encoded data removed]",
      "text/plain": [
       "<Figure size 432x288 with 1 Axes>"
      ]
     },
     "metadata": {
      "needs_background": "light"
     },
     "output_type": "display_data"
    }
   ],
   "source": [
    "plt.semilogy(np.abs(xt), \"-\")"
   ]
  },
  {
   "cell_type": "code",
   "execution_count": 131,
   "metadata": {},
   "outputs": [
    {
     "data": {
      "text/plain": [
       "[<matplotlib.lines.Line2D at 0x29d7f3daa00>]"
      ]
     },
     "execution_count": 131,
     "metadata": {},
     "output_type": "execute_result"
    },
    {
     "data": {
      "image/png": "[encoded data removed]",
      "text/plain": [
       "<Figure size 432x288 with 1 Axes>"
      ]
     },
     "metadata": {
      "needs_background": "light"
     },
     "output_type": "display_data"
    }
   ],
   "source": [
    "plt.plot(out)"
   ]
  },
  {
   "cell_type": "code",
   "execution_count": 136,
   "metadata": {},
   "outputs": [],
   "source": [
    "argmax = np.argmax(out)"
   ]
  },
  {
   "cell_type": "code",
   "execution_count": 128,
   "metadata": {},
   "outputs": [
    {
     "data": {
      "text/plain": [
       "[<matplotlib.lines.Line2D at 0x29d8f10cb50>]"
      ]
     },
     "execution_count": 128,
     "metadata": {},
     "output_type": "execute_result"
    },
    {
     "data": {
      "image/png": "[encoded data removed]",
      "text/plain": [
       "<Figure size 432x288 with 1 Axes>"
      ]
     },
     "metadata": {
      "needs_background": "light"
     },
     "output_type": "display_data"
    }
   ],
   "source": [
    "plt.plot(x)"
   ]
  },
  {
   "cell_type": "code",
   "execution_count": 139,
   "metadata": {},
   "outputs": [
    {
     "data": {
      "text/plain": [
       "[<matplotlib.lines.Line2D at 0x29d0ae52b20>]"
      ]
     },
     "execution_count": 139,
     "metadata": {},
     "output_type": "execute_result"
    },
    {
     "data": {
      "image/png": "[encoded data removed]",
      "text/plain": [
       "<Figure size 432x288 with 1 Axes>"
      ]
     },
     "metadata": {
      "needs_background": "light"
     },
     "output_type": "display_data"
    }
   ],
   "source": [
    "plt.plot(y[argmax:])"
   ]
  },
  {
   "cell_type": "code",
   "execution_count": 147,
   "metadata": {},
   "outputs": [],
   "source": [
    "wf = pydub.AudioSegment.from_file(video_filename(*videos[0]), \"mp4\")"
   ]
  },
  {
   "cell_type": "code",
   "execution_count": 160,
   "metadata": {},
   "outputs": [
    {
     "name": "stdout",
     "output_type": "stream",
     "text": [
      "{'conf': 1.0, 'end': 5.01, 'start': 4.17, 'word': 'announcements'}\n",
      "sixty one a lecture number thirty eight announcements this isn't the last lecture in see a sixty win a for the semester\n",
      "this one is optional of course but it's one of my favorite topics so i do recommend watching the lecture videos and after you watch that see a sixty one a will be concluded so thanks very much for following it all the way through to the end\n",
      "one of my favorite parts about teaching this\n"
     ]
    }
   ],
   "source": [
    "#!/usr/bin/env python3\n",
    "\n",
    "from vosk import Model, KaldiRecognizer, SetLogLevel\n",
    "import sys\n",
    "import os\n",
    "import wave\n",
    "\n",
    "\n",
    "\n",
    "model = Model(\"model\")\n",
    "rec = KaldiRecognizer(model, wf.frame_rate)\n",
    "i = 0\n",
    "while 1:\n",
    "    data = bytes(wf[1000*i:1000*(i+1)].get_array_of_samples())\n",
    "    if len(data) == 0:\n",
    "        break\n",
    "    if rec.AcceptWaveform(data):\n",
    "        res = eval(rec.Result())\n",
    "        for word in res[\"result\"]:\n",
    "            if word[\"word\"] == \"announcements\":\n",
    "                print(word)\n",
    "        print(res[\"text\"])\n",
    "    else:\n",
    "        res = eval(rec.PartialResult())\n",
    "    i+=1\n",
    "final_res = eval(rec.FinalResult())\n",
    "print(final_res[\"text\"])"
   ]
  },
  {
   "cell_type": "code",
   "execution_count": 161,
   "metadata": {},
   "outputs": [],
   "source": [
    "from typing import Dict"
   ]
  },
  {
   "cell_type": "code",
   "execution_count": 168,
   "metadata": {},
   "outputs": [
    {
     "data": {
      "text/plain": [
       "{'conf': 1.0, 'end': 4.05, 'start': 3.33, 'word': 'announcements'}"
      ]
     },
     "execution_count": 168,
     "metadata": {},
     "output_type": "execute_result"
    }
   ],
   "source": [
    "find_timestamp(*videos[1])"
   ]
  },
  {
   "cell_type": "code",
   "execution_count": 155,
   "metadata": {},
   "outputs": [
    {
     "name": "stdout",
     "output_type": "stream",
     "text": [
      "{'result': [{'conf': 1.0, 'end': 27.9, 'start': 27.75, 'word': 'one'}, {'conf': 1.0, 'end': 27.99, 'start': 27.9, 'word': 'of'}, {'conf': 1.0, 'end': 28.11, 'start': 27.99, 'word': 'my'}, {'conf': 1.0, 'end': 28.53, 'start': 28.11, 'word': 'favorite'}, {'conf': 1.0, 'end': 28.98, 'start': 28.56, 'word': 'parts'}, {'conf': 1.0, 'end': 29.31, 'start': 28.98, 'word': 'about'}, {'conf': 1.0, 'end': 29.67, 'start': 29.31, 'word': 'teaching'}, {'conf': 1.0, 'end': 29.88, 'start': 29.67, 'word': 'this'}], 'text': 'one of my favorite parts about teaching this'}\n"
     ]
    }
   ],
   "source": [
    "print(eval(rec.Result()))"
   ]
  },
  {
   "cell_type": "code",
   "execution_count": 52,
   "metadata": {},
   "outputs": [
    {
     "data": {
      "text/plain": [
       "15328"
      ]
     },
     "execution_count": 52,
     "metadata": {},
     "output_type": "execute_result"
    }
   ],
   "source": [
    "max(sig)"
   ]
  },
  {
   "cell_type": "code",
   "execution_count": 131,
   "metadata": {},
   "outputs": [
    {
     "data": {
      "text/html": [
       "\n",
       "                    <audio controls>\n",
       "                        <source src=\"data:audio/mpeg;base64,SUQzBAAAAAAAI1RTU0UAAAAPAAADTGF2ZjU4LjI2LjEwMAAAAAAAAAAAAAAA//tAwAAAAAAAAAAAAAAAAAAAAAAASW5mbwAAAA8AAAA7AAAw3wAHDAwQEBQZGR0dISUlKiouMjI3Nzs7P0NDSEhMUFBUVFldXWFhZmpqbm5ycnd7e39/hIiIjIyQlZWZmZ2doaamqqqus7O3t7u/v8TEyMzM0NDV1dnd3eLi5urq7u7z9/f7+/8AAAAATGF2YzU4LjQ0AAAAAAAAAAAAAAAAJATaAAAAAAAAMN+urw+zAAAAAAD/+1DEAAAJ2CcyJiRmgYedZiGWDOgBwAAGKTMzPzsQw2SIECBAgEIgsHwfB8HwQBAEAQBMHwfB8+CAIAgCDhPB94IAg5QDB8P0ghOcTn7tFbw/9K+GFBgEEre2cxB1vqDGT/5MAWlJ4Ci51yokqArphxW1zAoHDitgjGS0cnlvLWWVNIhmCJhoKQ4uQ1K1sVtN/UnCkXTmczOXQprU5matWyQi5Lyt7f5JBg1BABRRFAq3TXsTILfLCyGjqqDar1VVJWo4eMoNAu8sskgCgYDC//tSxAUACxCbNYykRcGKHiYtlIzoTzgRzHdJA2DJsIhVuAPEorOrvUVOQNqRSvNUrbEEGZiqaUT4qrLNM3zkE0uCCiwGABG8+4YWWEDgJoUcZQK3KMiNTnX1929n2be63/XSgKAVMAkANkgZ0mCkLiqaOw7DQDhtM2fJGCQlRqIGDycbY6CiaqbuI54+WZABoISex+ZRaeieadEdRj7naiC4pv67RbQV2GGBWFE0IaEA/EBw3cutRIPIFCFiXLVHdW//U4mcBzMrICCgQ4RMpNL/+1LEBYALrL03jDBlQXgW5vGGDKh6V8F7g+FJROIYmxyTl5aLm4ae8CJTruSzCWr5lCeJ3796ZZB6RCygloVNLM+Z+dKGHGcOsIDGrBkNk0Bk0jGiJcU+siTWEQRKnlKMA8z9X/XEgUSvbZrJGAdVE5lzetwXCPYcBWTCg2OhyaJDFNJi7UDprk1IIH2HBuTF6OrKs4UC//6twyiHNyi9LPXeGyBBMH4N3zzz5qIZukCtcRbYozKrMLDQ885jDak+n+zUOVUAIS1FdGdzqebkxf/7UsQFgAu0gzNsMGOBebRmLZYIcEoC0KxDEih+NCYhj8JJPLRgVtuiPDo9V7h+HR2RORAicPypG9c6CQBmXvUMDs7oFSQFeKJWrCyVw0Q75Y0ytMk4cNUvWdaAyot1n2v7lCzouICAAKUCCXA7EggZW53DEbpgxA4JZAxAMEtWfiMVrYCSwtgTFZpVDWMCFLKnZNGUhJhZoIqLNViFZNTB1yvQXBMMT/UqWe+epbtm2uy0/9bXTam3997elk+/+++03e0whgTfA+AfXhKkqzBZ//tSxAWAStSDMQykaMFvjKYxh5gwY/TrMhgCBgKDpGcMMNsI3wxzyto9RB2aGyXFv0FPNKsI5EQhbxESAJMhGshJy3C5wOorLCgVFAuxtFSVVsJ2Ywi/psR039X7wdGsSAirpCORXqBiDyMszy2mOoDygltcUKD/PlWpqJhEeFKQ2YrKu4KPRW1ry3NT2vCahaHR6RRCAKKIWwNuuZe0mAiRgyiQPv90WQ5jFuRmqm2a7KrkN2JfQyfUaAilBZk2zV18sJ6KET5SIUhRznYW5ZP/+1LECgAMIaE3h4xTwYsl5eGWDHCxWHTV3CRrWxRpXmIrTAw91UzH+mPpuVVuNMGcUuf+Wx5x52lxM5N40OyhHOU/b4v5lIRLHpt/Kvb30f9bdPreq2/vomyr6O8urkJRRwRdAgod6KoKsDWRSBsUgVLA+KywSCCTMNMbjMnWDtoBoSbka3ciVnKpMsyPad+v58JpIbf/M4nyIZT55Ed/hSH7jVz5mfl+rGqEXtZl/y6hgkQpBZ4BYbADqVV90heUMoEAXQJ5JuAQThCTaueLj//7UsQGAEvwdzEMsGPBXwtmoYeYEACBCLK8wNyktsW1JkfnHRExh2aMeECoaoCEMpU3uOuhXt6IpcXTQRPg0uhanB8ifLC4meyBAnbBdyxzIPrc5AICMPjz7LdF1Ipdg6JOmu0UD48goFrCEjDowP5egKNEMY0sHOULJOyRSDYPjYn3uf9MokZ0yJ5RUH+bKCdT7BGKKLMehQQKrCpwDKakLT5EMJi6azFyaDayrRUwWASb2pUpIdKqdiX/uHIHBtUKO3xtTdQpDONrlft1H7e1//tSxAgADECrOYwYbsF2HaZtlgx4+nflV2M07lR+1aisk0WDUVLY6Gg92Sp0NXUL504YW9P41Gp6mxF2xjKWXJgWeJNYgKFYNVgQ0IZhNap63Ti6jAwwKh49HDjYUjjxJdzP7lrGmAG040xfgj4Bw0tZgKx0HwVjlhWJ5aw3I0TS4x3F6y3VZmRiRadKegUyCdaMtlhOMfne54byz7dqisfqhS5Eav8NSRPK97B5wkYOVVFYut9yfQsq3goQ6rb4qsEgiTUGiJuol329lbcDlCb/+1LEBgAKoFNL5iRnIYIXZe2UjKgBJeNkxBA4RjJYAwWDJGbOtr2qHJ6Ejimi2KboDGWLkBE4THsCWCg9LmLijyr5oPMPnT27apFaMVyde061iX7Lb4cQS0fforWZAANqRFoDMyAFaZeh1Fv6BkGBkGCxIPC1IAUrn0xQnSKd6IqzWKqnK1UzKu5JHxDnsdLt6WWVndlrL3TC2i4YUXGaBSERRLXrbEJ9k1PkRVC0RQ2OfzAZDT4nkGqa3VKiRQkZYolSiICOLjAuVBaHZMAtCP/7UsQJAAwc8TWMMGHBeRCntp4wAHJ2cPIJyz6OFCX2EpCpAFuSE6eoU3ztP8j+X3N3Qhb0+R6+gQAEADlIiEVEIEACW2oiF165J53lchwdN4Qbc6JTWluxT7LU8NKRvj1diTYqUt3traAKSAfjcEMGI7QKoTq2nFO9mVcJbnWQIEAAQECBjgw7MYQwEXMLk2qntO3BM5fEzEmYQzOhcSnSYhJbKSKlvDpHplHtWRb925wRGpAYDFRCZYvladWMl/SLKoxW9trtttNI0GREGAwQ//tSxAcADFCfS7jzAAF4Gq4/HlACiWFgc2Hagb2/S1u8Bymfxz3OQdlqXj65xDoVuOmPLjTYP9kEPtkyHs6oxjviaHtR80cKlTJtNJqcHI7w/idQoaYznkhjlw8LO+rG0icHIIO0JGAyhjRnaIiGd3d2e6ySQRtgQQWpVRd78VxPaArYcO0kJiiB4MZDKMECOcw6rqKB+iiKCA11oQQVko+ow4pOOc3mb5x0+em5v8VFihiKKg2o96neXef/8uD5c+OR/1BU2ZoGh3iph29haKf/+1LEBIALjYVP/PKAAXUaaLjBDcCN3pM7Wcfr8vzgei8rlDEo5tsgmOcXEgnGUOsxVeg4xysPFxUVEDv7U0MxENXsT38mtrv+7FZOjbUduj5Xz2///9/ek+NLz/rnMj3RppnlxJZFsgCutRUoh7DLZFDAbBUBEcR6DsRzo/SFkSCGyKScBQj8akcJtA5s7CI8IG4EL//2ntVWEXRWVntSL+pDsGvMyOln3xnKgJp5AskCjJ1yP67n0qHjY30TRFD55rKqsOUCU1h1MzAKrxclyv/7UsQFgAt02UPHmE1BghRnsPMN6BFy6s9V5Xp9AK2IrF5AoOUiAFzCQSUGD4jst5eTlY3hYsLb+XBssQKsLJM7e1WVHu6Ge1JN77MZxAaaBnGSUgxtS2fjEedBajQpI9WjWr4jYJZpumISWsSMVQ4TwL8gD9M1pO1FUcU29Q9XtyrJ0aS5W+9bCcNdNOdtOqAZNX7be1bimDUfgYqillvnhVUo8ik+4pCB0qsQFQGtiXTBKRFl9llu51rLZ1gdNEswy9nljCoN1OxEAgkooyMH//tSxAUAC5z9N4eYTcFvj2e09gxwW3G+mUS4syYZWR6jYQcoSHRXRtbDY6X8PnnAIsc/aclLaytan13ZaOczZZPNb7lZmOhnR9qn8ibPKP0yzmWYeDo3tS9RG1lSUUXu+16KkLdXbDwMsd6aaSSSUC3OQ0z2NAzEIdBINzR9siqUyhxG0twOLqsEXTSkUcMBivVUKs/9XJSISFQEOHUzwiPsa8yC1/Dz3hdKVHB1O9FV5DJU/3i08y1JhqmBBdbGjihcXjMAAMoGSKZixs0hW4D/+1LEBoAMBF80rOEnEXeMJwmHmOhynqCa3BE1RBCW3IFABoU3lGHOQAIgBgG5vOAQuDYoKkiNpkVtCQu+dQXdHsZBc+RVzg8JjxZGMjR5h1XegJPHjiIZRrFFse7s7pOr3foKK+X9NASoCZzoUpgAEDuIal5TQE0hyEjOlQqBTHHhJspSmtOWxQNaf/HKDk2BCBuF7d39eToBcJWQiBAEgGZeomUCNAjaZ0bEkqMAngESHsojecYTsehYscZ0JMI4o7ytKJMIAAAWnGTBvCmA9v/7UsQFgArYn0VHmLCBghOo2YULACgTkzGFWErRBLD9OtRq9RquGnyxtacGARCHYZBjvZ947i/Wcqqn9ve1XRCuRQkHAZg8Ex1UDkMVRHnnMysgzS+9fQ/6yfxCNsd/66wINBAzIRlAgOgHB4BUpZwPwr7pEAYSj0nAle4E0rYDAB0QFsRgWqqNgkppG5QmTuIOjSjUsWm2z9sQfF75uJPIwN5gQwuBo9P///cEcQHAr3NCznrT7Zz1fz3itX4hH1IqGBUHWAFYBL3MxStGGFDk//tSxAeAChBlSkxh5wFOHCuo8xYaBqqavXCe+XvrNN2S1TjB1UtmzikpUgz1jSaoUQ9QYo5h/khTx4CvJl03NylMhLFMTNsjyHv/SIodt3u/BYef/d6wBsEBNkss4woZaj+YHaCORfPFEKtXobmEnoqxDiGkjTauMeA297Fyz+jqYiP//vnrJ02lKvvyK7O26kqdghKJFcaEnWO9gu/SuEB49mUvGuf//+kAvmCTE0kLjtP8h5GXJnUprMqVV6WWmRcdKnbJHymXiH/yUyeWmdH/+1LEE4AKFOFhR5hQ8U4bao2UihiDblmxwRn//wwj1baQ5w7kFFozYz7WojFuyWZylBB5qXI2Wz9HqYrtH1gGFySR4UgIB0Vkyyhdkjlvs4D6vtBdNymopey5TB0XmFkEC6JAvYrIBIHx/FR9R23sbRWb//T/7ezE/+v0ygdwBBIoygy7/TkhU+FmsFQfNEVWylVZbmQnWylKkrYR4Kgik9EdLyyZIbGEuuo3bBwouniKRlHZmeEHaVHOxSk//vut6kexVVTa/9mVKacZHM9bff/7UsQfAApBLXFHpEr5QBLrTYSKEHv/8h/7EKdIKPwjcx7wNN2omAPkAOjbdnxIrBi+rWiI5CWkd99nRdJk7SZGr+UtiLwMPVbDwsWI1SYgFojAZguKHrC0nSRx9v/+tewjDvJhj97eCAMij2VhqTZ6V+P/3WpJgGsplBApZHLcFEOwGYxkyP05D3uSCYEoFIMDZER9brQRWxiOR8VJTe4z//ZtOwxTloQhGt/17d+jmf/2R91/8u/rmOlDoUcSiUMjOpiOzkDgmIBcziilKppJ//tSxCwACjVfbUekqRFDmu3o8woe1GOeAvyak/oSFRFywj51eUB4L56J5q31u8303umE5N17kuXsqk/9UZJ3/REo7o8Z/0rVOvuDcTExiNMu86ovbcISLGh4u8U8jQF1bqBkJxNJOUdpLQZJBQXaCE6Qo01y0P0wkE/Agqhjm92XNcS7qhuXA7LbAVBDHP/863P0Ri5Ck9m9W6O65ekjuGl+rMD/7P2ClT3knsXFKUISseY6lHUtxNQ/UqW1WDlIeMqOXXZuJeWiqfy4hGrByF//+1LEOIBKaRFtR4xSsTIbbejzCh6+nd6GqP3p2W0KKZUV//M1V1MpHtWd1e6937E2c2k2KQRSdG+pyS3pjDkYci7UIYACACml34hEYKxECgN9SGehSZWRzAgj6Pe7CiRYGWihyoaarDRSD3reparORSz/+inJ6GGSrWZ2J+lv+1KCHCRAkbJqU0xrr/YqtbZ5QpQAQJNJODifyBJNAoyvljqwquYLj0tguG3RdvKklklpqKsRRcez8WWqvzYu913kcgkye1zDo7XqrGF2YZ3lZP/7UsRGgAnk12FHoE7BUBtrXYMKGn+t69L6cOwmHhdJPQb/Z3O1WuUJJwYqAEJgWEItpONBKjGw2FPSxeleEwZDFqaRAZiYqLKQuYsKXZgMSrO7oi0YhTfsmzHPumtaFfZUM/tPGopkQlFziTAygoeBgeuNX/9iWF3NZErhtgKA0zUKzILmjYR7LyZSkc0O8sOmITEsdlcNua/qBqOuRtwLn4C6IsVIEXsjtykLaIERj0aKXqfu/06ypkX1MNv//+0ufEBwuGBOfIIDEfUB4bkY//tSxFKACkTdXSwYrLE5DOmJlI3Y0XAhX24RQGspm0dkDcFbaCGSSxgP0KiyA0CHVWxRBTb1qjEo6Lp684xwjOIUIMJOEUUSylk6NcmWn89XtuivgYGciAiNSdaIcAT+2hFkZ/0THNUpWUZkR63c6DEzc2Q3TTuK+oQ7VC22A5kgooL0HCxrUVVxW3tM5b1t/81f8ffdxx2hg2wbiUe4wPBFERQjFQcESTUPH3/og+DIrfjl7GudQpEDWeDSqDgBSnsQKgwgQ7G3EdPHLfPxH0f/+1LEYAOMhXNOLJhNAcat6oGDIOC8RXHN1ULxPTRFcnimt2Qo95ALGtOtVW+lsEAoPTQmh8nMGXdfV1XJ1ql4VQ+jvNZeldp0KeJmiAidCAIhDkSLhIVec7GW+JIUcBDoeVBHn1pJrrdlbIisuRooCwWP81UeMja/QEF016oEA0+hrFMVhD3XZOQAIJyVUpjIUqIA8EUybD1KwEXRB5BGp1kMFOWOrvIm8Bh1ClZOUI6Dm1my2xiAWJBgahLxfAVDRSbAzyk89Z0WK+k1oSwbaP/7UsRTAAs9B18mFG+BTg6r8MQNkNvF9skl/K0KhTJEVkMQBEo+BA2cOEZKTUuCXhNcEjBCbMzAQBPEqZ7GrUrfqVXRjmcbU57zIjo+TAnUmZu7qR/q1e+7PBKQ1P/9shv9V+8kxWxSzJ5hY31BJPsVisbK20UAQJAbEjB5FmiG8qlpIeySgyIGPl/MYg75626mX/yv9hzuRRHKfnq5qldSWdWl+7K14N3T1eqy77lSlzeVm+nnb/2bEhQaMPB0NKlRKZiJOIXOrdeuTNMjaSAB//tSxFoACn03W8ewQ0FnpGr0wwmwRKiZLg0EJJroXBQnoBHw6yxXjodbG23nP1ZXd1qiz22ns6ihiChVvTM19zL0VmAk5b220lFEDQiN+bQvJVDOAhFFLXKFgoVEN1UtH/YzWubPAYkSJfkU4rG3WQASFKU5MDEEDGc5oelzyPRTHRFYHSciRLC7kijNUJNt5gjO1Oe5DGqjrj1BK1YZWEQaGL3gI8Q5mkOrbq7WMa93VjOutnlVoxoPhz0oABT1AAXbCF1ISTWZLQosFjKiV87/+1LEYQALkNFPp7BlwUYOajTzCdDT8y5vHvchib1QaNVWezhpcMNVgaBZG1NybLZIGTza0ZW3FtRA1n7ikES42FlCgmKgg5CDrrsza1a20MLuPNdvilepP9fWh1GtbGSKwAggib+l8RoYMOSmRTQoX8Bk9NB3GJgVRoHYBhbFyG5jr3uFlHlOeKFWWPrIBoFgWRZ8evz/3XK3lWlHWw1YTBS1VyEVFTa3D2GWraT////e89SGQ2GxmseyAQIjsAYSvBlH6uxGi+mqS1hs/YzlNP/7UsRoAAwIcU0sJFKBZhNp2YYg8Bdiali3SM45LPcdUPVWae8X3KYuB4OCOqT83n2Z8nzLkohjFLLvobjwFSLAqt1hwJEF9v//5YkFVegoVxhFliySbA4VSUE4XkgKyYP5PZMVSAPZq0fFhfPNCJEFkXqkGhtDPaVBS/V/Kp9UcEZ4aAg2MJtE2xoNNTLAwHCxYROMB3kv9DlBOz/WdtlqGqw4NspOBIDPLidatNJWFyPNblb2BD3PE7UqaavfQk9p/aKQytkrN3OUBaDUp8Oc//tSxGkACgCdTkegcQFGEer0wYoYxjJr6ZEdTyvq6g0S5l/WJS1tw08QF3SE5Crm7KnDqEjU60AZqZQUomVA0F0To1HZbV0lkFGkWFEgD2IhjBCxNWCdIsqV+40f2mf9+15JHRys3N6XfRufd3BzS7VDHFHxy31jSew2Di0lybROf1f9LxzLqKJAI6FIlgtpRqkkRPl5BGKoFGsNjMqESnH6tT0MLiHPd5ubiPfWyJdtvf/040RvZ1S7ToeBcJHQIEjT8aFbhA+CoqI0JjSwADP/+1LEdgAKQMVTR5hRIUcWqjT0ibT/5/91i2dPj851OguOZyuf6X1uuSSNoARhYMyVIwj5IRymcu4sNpEZmS74dcuGW4OyXU3lStH0hafOJVUQbw5ixN4gKH0ICCeNOKwpArqzGUZFnfCoVCgTmSoS8TGs5cYDlE3qtfTyxXblGfMUbUkFuzEfXy8U33WSFqsVrtLjDDAYIGZobVaJPqLuNeL5b71GFoKAYOt5zdjVrFqq//R1f///+yqV6yyfbbW62262yWSIBQoMTBpAyhJW1f/7UsSCAApEY0m08wACaKAo9zTwAKY6BDi5ggTjMdp0QmtQ8yWJOIAOArELP0FeYx0GibKuNBWToY2m4q56p5agujRh3hzHnAexUOdva7lib1m+XrW8i+Pq2YGoDWnzmVLy1HGK9f6z4W+3wY2XuPAtrWbaeP4GM7jV+K/Fswp4nkpasfer0f2fOtzfKTl/+fWXpFqJAIYkalWTZH8+HWZZYi6EzTbK5bVjcqz+UzCFAhj4Y2bby0Wy6pUesxn5ElCjAlXvFCBu9p9w4WdRDxx8//tSxGmAEukTXbmngBlMjKfnnmAA1mTCNsmlrLUaE6WJvQ5BXLyRxuro/IUVTAAAVMEvqLDAC7O8YpfHqRMptVrW27USe8GrlGXMWEe7bMt+xbYzvJsEtZW43z/N/YO+Zu+XyIo+3OEtMfaVD5Sy4XT+9rGTprUDc6tv7MoCZRAmA48KJ56VbRvxT7WXv9+9hDFmMyGXCofFEcoT+P1eEGcSDEvzC60YPzKcdtkabiBLLGomi09HY1WlSAwSLozopPKEI8+YWtlUvW41S9/1YwX/+1LEUgAPnWE6p5kzghKrabTBsiiacUzn+UjxJn5n+3js/gc2efuwcLBINCoaQk8SxLRtv/A4vOwbtLHB7f/XKzqMzGZLL54dKjCvFQmctR/SXp2KZnbTr8M3xzZmmZfZtP7PzPcs4HwKxCkyL1pcnECVM1ZHhXVJEiQARZCPRcKpPJohp0x44TsHZlCofL2Yq2XXwYDdWEGwCbc9F/xjXz4M8jfaWO/b2R/Oihuj+PVlV+aWrH1uEujSSMhoZb2Z1hOKSK2nQqFM1bPvEvcMav/7UsQvAA6U71HmBfLBW6VtPPYIsgxG+UGhKDsPnxz9NYuODYWOInlnC2xKs7Q8O7LbGQU4ZzpqKk3R1HIXgWEE4Qy6LxCVm49rmSVllqny3Y+LnCpaVwSDFN8tP5otfKYxyMEOJX+WqlQzuxTplfRur9EMSX///zsoUeXwGEztmQFll6zru6h98AApQGjA0JRDHp0CYHCUZq1pafokMoTrnVIzmsraWOZWRnCiYZN6S/+SUWJmtMxlQSh+Y5mEo7GoygAUC4sUc83HYGeW/6Ad//tSxCcACqjFXeYIcUFMGOt8wKJgOusDqk+txeZiXi5mF9oACmAQOwApyWCYNZLdgoJ7WIR43LlLWWWrSkJmTjSPwgwLKJ/z2ffI/dHGhCO2ePyMXi0ZLjHsdcETjWpxLJE/d+MDKSylDzvyVX/6lWiqyrqZfakAKc4G4/kgciCPBHHYtLC6tJBIWElaiXZHFXGHrRmxDBOgXQG8u6emtiNYl0KcwsKCt4WB0VJEgqCRGhXdrWd//AS9FPvxZRgIv/b2yTX62OSIApwkReFEqIT/+1LEMIAKZJ1b5gRSgUgWa/T0jNqORSnI3gyoZQhgnCz2EoBcIuGUWVTlLsOiDFhR0JTBv/twzoQcr/yQUyl0r5UaeTS1LVwD1IRUW/xiHdK0qR+gJhj/xypqmrzal4+xCd/JiymCpFehJ2ZRUh+o90fqtOrMCBBkfMyUGrjWzq9beNECkcrub/6qy7bIFysKKCChG48HJ0Bz4H2goLi1D/6UmGVnx7yjf6f/WpGmZaoh1yIAe4HIiGBDHosphUmQ23h/Jqg+VOrF9FbH7G6hs//7UsQ7gApom1vnjFBBOShqvMCKeBhL8gSAv/8zAdYRwoJJFo4BBXLqtCiyl5EVHVQRF6I/o/+sn0oaUBBKevpkaIqpZlyRAUgUJAT+SyKHi9FlNFcsqKT79MiUbbJBXBdldD1U1iHvGr1qRAmLtZqlR2Tpc6mixpncegYcGrgEVCeRFAbdspYaITTZ1pv6l/UtUmrr77LIEAMhzRZ3JA0YZ2IUzKZgSDgxuD7VoctzmK7Cyod5z1/VGHAFR3M1G2qMZmn1NZDcSSdKlunDqMbm//tSxEiASmybT+ekrIE+mik08o4oZfaJ1HyCHXMW4NoK/h1lieSsFHVnqVlaEQXcB5DIeUFwbQh2fEknHgwMlz5EaPrbZcX2VqY0QDdr80OCEvWiq2yG7WbSrPVW35kCkEwwc15pBZiCo+YmENEKEWVP1oA2BV3Uka1MO6weiBEtApSPOexcjdLsOFToUn2JWwaYdwGTPiRVSdbh9KVIE6epwitUVPyv389dONp02pMLpRbvKj/rf1qm25SCkAumUKDyJ7MTHXFaM2gmVVeIZln/+1LEVQAKJLNL5gRSgUuc6PzximgZJcoASDgJe5o5BlICZggD60JCotFweTN2Fx1brDbuWaIrkXwUxQzDrFlWVkmh4NERHDucHlQTpWgoJAqqvcYKVnV60aSjlDnkS4UuTYobu/xgLhKHgoLR+CAmCAOLoFwb2EgRAkbJ4bO5+2oq154iCCFnCLlzHBoC/PIvpH87XjdCrQa1tc1wAh4qZIo72JHUhkYgDuWBr6jz7V2a6wf0yaYNN+D1C5gfLINw9HExaTGZJNTlgdmj4SE0Q//7UsRhAAqAYUPnsGWBQBNnZMMN2GZxOnYDNRRz47vH8y55gKE3qQ1JhZJTRgGCQxpYChkTulTQ57n2rlqkceylM+/Sj9///+knRaSGC2S6TrLqj80zCCHXj3KixeTAKkIvSpW1UK8iat0JBzeQUWaMUGEk/oULGg9AJMaOccLCo5oAaYDBiVI1FmWPYsMpKOfI4UZdszSvvbSn//rqLstlkd0ookkYY6cySkvg9wkNAPKpFwuCQSozSLHyFI5AffC49MYadlf6cMeww1pxRBbg//tSxG0ACkBhPYewwYFRDuZhhI0oqUWFgmtbXCJLElZG0c7fqCoKPY5GwckBPzizrZlLAigOT6XJNQAArC2jsQpxPcmbAHhPA+yJt6oIip3ooDYldgijvakTIHon1YLS/Om9ClQIJQMPALEFksCT1iF7xwchk3aG2NXdmL12VuAlrH01DGqTRymuoE61QVmaEn3kOgoCWQak03Rn7o9CS4QvooesD2KOoFIPVTT9EKJg26FWEwcDkO0sEJMBRCaNFjYrUgBMMHxgZf2Tcg2Kzij/+1LEd4AKYFtNh7DHMUeOp7D2DORQy1E/fp9v/+fCJThBFQByFFABASoFBoKlpKcEEkSfCseVUARkJBADhEFC6TH/3IcYWcOSPF0AZSFtYJBU1eKLLCF6SY8XNDbTX7Ok6laW/bO9T/6BT+xJNQaTY2TSKqBGU6RAnPlAoOycjUmKIrnpqvWmIi5t8KTMD+kWiOfOV3Y8AxekXE8wsJExc0Pz8PB9FqEIHJRIjtbHCj6U41IoZP2YXzn+nR/58XaSibagHEHUtB2oBQuCcYo0Qv/7UsSDAApoXTmMMKOBPQumrYYMKOJD5sSzJaQDyaxSWdxJ1O+KmVGBHQ881wIhwePInKGMGwoYqUVZtlUO9zhi1tr70/d+n+z27ZRxFQI3K0FPVIGcqLktaC/y0ioYjAnltCOS+4yZWq/euW5s7I9Y4WnpibP4/vNTecuyKnz3hAiO5lM6SmT8xnnYuo6SCCjiBu+6l3Sv/5r/9yem2sEZneYmE80jaSAMiCRwnAQIZoJJ0rXlUnrVLrRow5Eoxx9HvchFbqiLlEaMQz8EkJr4//tSxI+ACkRZN4ewwYEliKas9hgwdF4JEiwZFWnx90kKtqFnoWjPM2nK60VeprTthiU7rv/9JhUlJW+N7/Ig44qQPE91lvHWi08xrTGoTpJASYOpKEKaJg8bJ0BEywCWIPIjpETQo9pJywjUBGYtcGMeNEAx0kMXGFp0tVks9v/XR1p8Xddb89/9J+1fseuUADvKKAWPAowfiwbpzxw2owgfI9DPXVwjjHRDsLz2qOCXILN5lTfQcwkSeZekC1g3aOdySzTEBkaOyn3Pf7ZuvX7/+1LEn4AKKLU3jDBlwVANKPzEDhS+ix/O+iRFDoZVDVjkpPUqgayrRLwqaiDEMwTA0oPTMQCTEd7UwgPXnagYgWvoZhgbhGa8d37gjJincicJArg+sYNIQVyceqOJHBOeucFQjjii9B86sDTwpLUeRF6FX9P/S5D2CqnDvKIkcTIJAcR0hpIQiiUGIggQJqs2aEgFxCXl37PPEPBKDgkoCCQlQVgA5S6MFCKLgtgW874fiwMByy5cT/8x8k/UeV433+u8IcWakOFQuoEqL9mfZ//7UsSqgApoizeHpGzBPA8mpZYMMJ1rGl5+sgEXGkQagLXBoS3VV10TDoChYdCt8RiC2TFh83VUjHCpGJxga9dYRvIRDnCeZhLUkMjdxpR0lzn7nOEQOeHLJTcEtqn53Mybn5FGX8sS/598qXC5ZeIthZMf37//2+XblPz+9pefSpEnkxgilAAKTjEyggQkqLMdtnMF3nfgaMKAkEl9DJkVlHAFOKnlGn5fxA3NljWZw9Mrah2OeQooyMqs085js865aFNbKQnue215fTa6W3Lk//tSxLcAC0SBM4wwY4F3Did89gyt/dpXSqlI88lYZBNZY3p7aMapddRtby7gdLqqEOagADZ3wGTLeMQWYsQDgEhkJYSoVksJisfq8f1JTzVHGSQ6GwZZ5Cq6toryOzFnsr2REek60m12cyKmyXRS33ch/XP/ba7EWiJWip6mp3KvPr83726szOyU7u65VYyuCUEgAyRJl6VUPqInpXk1lIFJl+mMi8fRBTlyxZWktpl6kJyeH1DwHUmU6xFYrHyaOgkUJRIQsqXNCV9404JUtLT/+1LEuQANeaEtbLBlSZIk5fGEiTj1QUNNYReLqEwdQVnya9IUlyaTLwqPqrbO9yH6v9LGEwMUADxlcA/4H8AER4C/Y5AYgGQTHRJc0yoEJMEHmUp8ouekII2AI873eiBtP12L4OgfmXqpqO+61LBt67P/7wte3/Ptxb8t37xfDX5VyfbneO3eeT7v/9Qv15msWQRGiqyZjbWRNQhBNydF/Nd+i3NKsTEllAfcG6tUgMlAqCtZ4qkmUt2nxUy61VrrTQMWInPXMWPRUcURpoQy7P/7UsSugAxNmy0NMEWJgo7mMZYM6L9L8WRWnJ6Femyjsuh6sKhoa197MCCBj0VrttttttttbrZHG2AAUqmUxrEeoGB00cLcNhQaWTDK7OYi7iYhAzRPs4C4mEuSZoosMBaUJlmAaqjPxUjNkVJzqhUNDYyLhTtaOujVAon64MV+4HnWBWKxs+4FXrjlWqNnVqOvp01qOHAvWkS8fwqxX8qFqRUUiV1rfkj////7TjpncL3vCe7zr+mqb1fGd/43f++vjMlJ6QB0SWmHhWdnSHnW//tQxKsAC2A/LwywwwlcDSk+noAEXQostFEAKNhhAOURFH4axZ5W6isQ8HExao+MNxOHzEvPnDpEbeJ5bMz1cb0HwaxyK/NXXhUags6W0qRKxFeLV1nlTrHxaw4vafciPmets8q+uRrEa3J7qNR7+Vr63yqw621rX03Z387CK41WV1Ls/TMahagq1eZrOdM9f5ta+zT5maz25u1hskcd4p9tVH/+mgJjVIYjLrABEOlqQC19dbO5G9bN5bDD+vdSPA+sw+duSDJpYCY8cNCw2//7UsSvgBNBN025h4AaaipovzLAAJGB8Kt8pMoU5RodFmlDYKODskWcmB4gm7K/3/TTuPNfKLru6HDHEEiVJK2mmu9vpKWBmdCSCjVLU1EJI7Ifi6Nw+GKmoPF1WvGNF6z6wNKpwBAAOMSc4nELSXE7RyJJjjrnUFoRE7lXyr7h6WcoOc4DHQdW/S5YKtddVNqjHlOkWeXLuezM/psz/FMoCPqeze2ZqXSBht6yzApELWzjiF9qHknPU/XsWZXtR3LfISMBgy1EQEeNTlKaPYqN//tSxHMADujrPd2EAAGGmyds8Zqg3ZA/7yw1QOC/t3dScfEFNBwkka3L0w9jTC/mIvjvLtJm4zen2GNz+d/wqd3CmSj+Q6JKHhIUJiYGGCBxjEaET6HFRj10DmvP55DHWY7DyBXBUXDQ02YexmEFncwrjlZu+2WAQDsADDrKRI6+LLYYWieDgYjbxKIpZJY9nB1iz0JBzmxbkF2ELbuiG4dp02cjVoRWRh88/BHgyuoCTo7fLgmlR01w4xyYs3gYiNy6T6Ul/vL5ffz/Lnlk2ZH/+1LEZIBN6Rk1bJhvwZSnJm2mDLCCgY06801W2r6fscoEkOQkSAdqhpFsPbvZYm4j9g08A8RYbGz5MERbxYQS4Xnk7MHsW6R3hu1VDVs43g3OWj9eWz09Vbd8enit+vUb/dc2AOcpmxszH7XCQarLIqFRll8trmEtFB8Ooey9yej1vVoWGQmHmaqXb/6x2U0ZziGiFao8AyETZIP5HB1AM9WvnCJyMcpVgkEpOwcnKloybZ5iR5JI9cDNEyDJDNJPMzUnc+1LVxEsJGgqgwckkP/7UsRYAAyg3zFspMbBew3pvPYMdO5dQ1BiKGTUipp9q7WSC0G24bQiARi1KKyIADMAgwOlIIg5GJWEQuGlS2TR5SHxrSr6IKUDkwJ3expnXOFlxQwWLg9GqGw4Uck3c9kup55hFE9s2fbfp0UM1N7tTv9X06QRFeqiFb62NMIIGhJcGA1v0ijT/JQqYEwoFcRMO4OrM5z1hUvR9/HpLa0iZJpYsyNGEGuPHAE9wHKsYgUULVVZOObrRcULa6IBr//3f+RFmtk21Qs7/7K3IUCC//tSxFQACZhjNYwwYcFJiyj89JkUIXLjCY6QwUUDwSSAXirEhlctPatab2xAcei4GEPQcMCpIyAxYkCaS4jYSuvexajAGEo9IC8//Cymn2jcXFVpe+v/vv3XZaujNgA0CvNzVVL/a2yNCushLEUhxoHhMHJ68cD9d4yPbAITBEjOPT5KDwbJ0mmgUqRDTAK51QUeIiItnsceKnSp1ZHFKmtY8JknnlqlarFLOyCNHJHf//kFVks1zltsbSA9YEu0EyEAKQNgoTDuOR4BBQy+ACL/+1LEYgAKXD9BrDBh4U6IKLz2GDQdghCMIAUItwgzCJE8y2EIhZUOOMND58u1Yhk6TAP4gE+5SWxAGCBTqk0TlBQmXHb/U16BEW62Um6kgAiMGUFroaSKSzMjhmDaaq70fiqRmXCSnhVdoQsic5R2sDoxVtrabGg2JR7+QdUH3Hw+DDSBMPKHwwcSlYEFHRyQP7Nu/q1K//X7ftgNAUMlqFVMALGEfZTNLmtmm0rSuoc4gFKiEQGwDuJ5vg9kv3VASCHSPfifYlz51BxCJBdRp//7UsRsgAoQczOnsGMBURDmtYGZsIffQfpCa2ukkvIAEIppnCsvrt6cn/qn/Z+tLe9QqBk6qsMp/7AIEI0kJO5FuBzlzBAhGxQSLrk5sCXvyCKDWq/IW+F3QEIzIDHJMihoKsYrcoiLohsFllkstjukbrvrtVmfjtVG6LD4yZ9XaWU8wXNqFqugFWQCw0DRCEotc8Eo++OI6pic8aAQnmkcolQlCoKgI8CxU6HYdBWe1nSyjxVwcEVvIgqVcpYaBVR5wTuw6JVPjw0HbHVPZ//v//tSxHgACjR3NYekasFLCmf49Izk+GujytVMQU1FMy4xMDBVVVVVVVVVVVVVVVVVVVVVVVVVVVVVVVVVVVVVVVVVVVVVVVVVVVVVVVVVVVVVVVVVVVVVVVVVVVVVVVVVVVVVVVVVVVVVVVVVVVVVVVVVVVVVVVVVVVVVVVVVVVVVVVVVVVVVVVVVVVVVVVVVVVVVVVVVVVVVVVVVVVVVVVVVVVVVVVVVVVVVVVVVVVVVVVVVVVVVVVVVVVVVVVVVVVVVVVVVVVVVVVVVVVVVVVX/+1LEg4PJ5DMlLDDBQAAANIAAAARVVVVVVVVVVVVVVVVVVVVVVVVVVVVVVVVVVVVVVVVVVVVVVVVVVVVVVVVVVVVVVVVVVVVVVVVVVVVVVVVVVVVVVVVVVVVVVVVVVVVVVVVVVVVVVVVVVVVVVVVVVVVVVVVVVVVVVVVVVVVVVVVVVVVVVVVVVVVVVVVVVVVVVVVVVVVVVVVVVVVVVVVVVVVVVVVVVVVVVVVVVVVVVVVVVVVVVVVVVVVVVVVVVVVVVVVVVVVVVVVVVVVVVVVVVQ==\" type=\"audio/mpeg\"/>\n",
       "                        Your browser does not support the audio element.\n",
       "                    </audio>\n",
       "                  "
      ],
      "text/plain": [
       "<pydub.audio_segment.AudioSegment at 0x1c6586c0430>"
      ]
     },
     "execution_count": 131,
     "metadata": {},
     "output_type": "execute_result"
    }
   ],
   "source": [
    "a[3000:4500]"
   ]
  }
 ],
 "metadata": {
  "kernelspec": {
   "display_name": "Python 3",
   "language": "python",
   "name": "python3"
  },
  "language_info": {
   "codemirror_mode": {
    "name": "ipython",
    "version": 3
   },
   "file_extension": ".py",
   "mimetype": "text/x-python",
   "name": "python",
   "nbconvert_exporter": "python",
   "pygments_lexer": "ipython3",
   "version": "3.8.5"
  }
 },
 "nbformat": 4,
 "nbformat_minor": 4
}
